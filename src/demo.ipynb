{
 "cells": [
  {
   "cell_type": "markdown",
   "id": "0bfc6eae-dc55-4786-aa51-d999c83ae2fe",
   "metadata": {},
   "source": [
    "# **LYCET Demo**"
   ]
  },
  {
   "cell_type": "markdown",
   "id": "d196b2b3-0ea9-49d2-b79a-25de8f4b3c51",
   "metadata": {},
   "source": [
    "## Import the packages:"
   ]
  },
  {
   "cell_type": "markdown",
   "id": "0dbce63f-e3fb-4134-8936-7c2580b4e4e3",
   "metadata": {},
   "source": [
    "_1. For best practice, create a virtual environment:_\n",
    "```python3 -m venv /path/to/new/virtual/environment```\n",
    "e.g. ```python3 -m venv my_venv```\n",
    "\n",
    "_2. Activate the virtual environment by using:_\n",
    "```. my_venv/bin/activate```\n",
    "for the previous example\n",
    "\n",
    "_3. Install the required dependencies given by pyproject.toml by running:_\n",
    "\n",
    "```pip install --index-url https://test.pypi.org/simple/ LYCET_package --extra-index-url https://pypi.org/simple LYCET-package==0.1.0```\n",
    "\n",
    "_4. You are all set! Create a python script and run your code. As a demo, you can run the code below_"
   ]
  },
  {
   "cell_type": "markdown",
   "id": "c3927842",
   "metadata": {
    "slideshow": {
     "slide_type": "-"
    }
   },
   "source": [
    "## Steps to conduct forward-mode AD"
   ]
  },
  {
   "cell_type": "markdown",
   "id": "be3bbaed",
   "metadata": {
    "slideshow": {
     "slide_type": "-"
    }
   },
   "source": [
    "## 1. Import LYCET operations:"
   ]
  },
  {
   "cell_type": "code",
   "execution_count": 1,
   "id": "e2150327-428d-4dc0-906d-fc7dd875f4d0",
   "metadata": {
    "slideshow": {
     "slide_type": "-"
    }
   },
   "outputs": [],
   "source": [
    "import numpy as np\n",
    "from LYCET_package import LYCET_Operations_Forward as fwd\n",
    "from LYCET_package.ForwardMode import ForwardMode\n",
    "from LYCET_package.DualNumber import DualNumber"
   ]
  },
  {
   "cell_type": "markdown",
   "id": "c9ce7add",
   "metadata": {},
   "source": [
    "### 2. Define the function $f(x)$ to evaluate\n",
    "_In this example,_ $f(x) = e^x + sin(e^x)$"
   ]
  },
  {
   "cell_type": "code",
   "execution_count": 2,
   "id": "58c5fb1f-cfab-4fbf-9c84-cbb3d9186b3c",
   "metadata": {
    "slideshow": {
     "slide_type": "-"
    }
   },
   "outputs": [],
   "source": [
    "def user_function(x):\n",
    "    return fwd.exp(x) + fwd.sin(fwd.exp(x))"
   ]
  },
  {
   "cell_type": "markdown",
   "id": "aaa91c89",
   "metadata": {
    "slideshow": {
     "slide_type": "-"
    }
   },
   "source": [
    "### 3. Specify where to evaluate $f(x)$\n",
    "_in this case,_ $x = 4$"
   ]
  },
  {
   "cell_type": "code",
   "execution_count": 3,
   "id": "5e598586-0d60-4820-9d54-92a109bf21b9",
   "metadata": {
    "slideshow": {
     "slide_type": "-"
    }
   },
   "outputs": [],
   "source": [
    "x = 4"
   ]
  },
  {
   "cell_type": "markdown",
   "id": "b1f2663d",
   "metadata": {},
   "source": [
    "### 4. Call the ForwardMode function\n",
    "_ForwardMode will automatically convert each variable into objects that can be used with our LYCET operations. By using the ForwardMode function, the user can get directional derivatives of the input function, the gradient and the jacobian. The ForwardMode function has an argument p to specify the seed vector when the input variable space is multidimensional in order to compute the directional derivative. The user can get the gradient or the jacobian of a function by setting to True the associated boolean argument in the ForwardMode function._ "
   ]
  },
  {
   "cell_type": "markdown",
   "id": "bf784d44-d599-4798-b1b6-ba9865af714e",
   "metadata": {},
   "source": [
    "#### a. Derivative"
   ]
  },
  {
   "cell_type": "code",
   "execution_count": 4,
   "id": "dd004c7e-0e38-4e13-8d2a-a8cf2f558908",
   "metadata": {},
   "outputs": [],
   "source": [
    "f, deriv = ForwardMode(user_function, x)"
   ]
  },
  {
   "cell_type": "code",
   "execution_count": 5,
   "id": "ed8a2656-c992-4b9e-a404-93281ed65627",
   "metadata": {},
   "outputs": [
    {
     "name": "stdout",
     "output_type": "stream",
     "text": [
      "f(x) = 53.66938209690045\n",
      "derivative(x) = 34.360705101546074\n"
     ]
    }
   ],
   "source": [
    "print(f\"f(x) = {f}\")\n",
    "print(f\"derivative(x) = {deriv}\")"
   ]
  },
  {
   "cell_type": "markdown",
   "id": "15dcdf61-2b98-40e6-8d80-5398694a3c30",
   "metadata": {},
   "source": [
    "#### b. Directional derivative"
   ]
  },
  {
   "cell_type": "code",
   "execution_count": 6,
   "id": "7222cd12-983c-4649-91e8-b525901f147b",
   "metadata": {},
   "outputs": [],
   "source": [
    "def user_function(x):\n",
    "    return fwd.exp(x[0]) + x[1]**2"
   ]
  },
  {
   "cell_type": "code",
   "execution_count": 7,
   "id": "8613ee47-da4b-4eb2-a067-f7ba17d6ca44",
   "metadata": {},
   "outputs": [],
   "source": [
    "x = [0, 2]"
   ]
  },
  {
   "cell_type": "raw",
   "id": "0acc5d1b-0f34-4bb0-80a2-1f2c9a574dc7",
   "metadata": {},
   "source": [
    "When the input variable is multidimentional, the user needs to define the seed vector p. In this example, p=[1,0] means that the user wants the derivative of f with respect to the first variable."
   ]
  },
  {
   "cell_type": "code",
   "execution_count": 8,
   "id": "0dc1f07f-19aa-4fd0-b233-c540af4b3903",
   "metadata": {
    "slideshow": {
     "slide_type": "-"
    }
   },
   "outputs": [],
   "source": [
    "f, deriv = ForwardMode(user_function, x, p=[1,0])"
   ]
  },
  {
   "cell_type": "code",
   "execution_count": 9,
   "id": "322c3dcd-b7c4-4108-8cd9-bd899b324ec9",
   "metadata": {},
   "outputs": [
    {
     "name": "stdout",
     "output_type": "stream",
     "text": [
      "f(x) = 5.0\n",
      "derivative(x) = 1.0\n"
     ]
    }
   ],
   "source": [
    "print(f\"f(x) = {f}\")\n",
    "print(f\"derivative(x) = {deriv}\")"
   ]
  },
  {
   "cell_type": "markdown",
   "id": "f5d4017d-0d14-4a07-b115-96a41565bd11",
   "metadata": {},
   "source": [
    "#### c. Gradient"
   ]
  },
  {
   "cell_type": "code",
   "execution_count": 10,
   "id": "9670962f-bd41-41b6-8ed8-e5f08e0815eb",
   "metadata": {},
   "outputs": [],
   "source": [
    "gradient = ForwardMode(user_function, x, gradient=True)"
   ]
  },
  {
   "cell_type": "code",
   "execution_count": 11,
   "id": "1ef3b77c-cd1d-462e-8249-6f4090569315",
   "metadata": {},
   "outputs": [
    {
     "name": "stdout",
     "output_type": "stream",
     "text": [
      "[1. 4.]\n"
     ]
    }
   ],
   "source": [
    "print(gradient)"
   ]
  },
  {
   "cell_type": "markdown",
   "id": "5312258b-8f58-4f51-89ec-7063d7ef5599",
   "metadata": {},
   "source": [
    "#### d. Jacobian"
   ]
  },
  {
   "cell_type": "code",
   "execution_count": 12,
   "id": "aff95b9f-828b-4c12-a169-5f149dbd58d0",
   "metadata": {},
   "outputs": [],
   "source": [
    "def user_function(x):\n",
    "    return [fwd.exp(x[0]) + x[1]**2, x[0]*x[1]]"
   ]
  },
  {
   "cell_type": "code",
   "execution_count": 13,
   "id": "07e460b7-10d9-417d-b9a8-e7113c3deb01",
   "metadata": {},
   "outputs": [],
   "source": [
    "jacobian = ForwardMode(user_function, x, jacobian=True)"
   ]
  },
  {
   "cell_type": "code",
   "execution_count": 14,
   "id": "28d1f230-ddbd-4cd8-a7f8-045e04f354c1",
   "metadata": {},
   "outputs": [
    {
     "name": "stdout",
     "output_type": "stream",
     "text": [
      "[[1. 4.]\n",
      " [2. 0.]]\n"
     ]
    }
   ],
   "source": [
    "print(jacobian)"
   ]
  },
  {
   "cell_type": "markdown",
   "id": "3caad12f",
   "metadata": {},
   "source": [
    "### **Reverse-Mode:**"
   ]
  },
  {
   "cell_type": "markdown",
   "id": "5986d7ec",
   "metadata": {},
   "source": [
    "##### 1. Create the driver script and import the necessary functions"
   ]
  },
  {
   "cell_type": "code",
   "execution_count": 1,
   "id": "ebec064b",
   "metadata": {},
   "outputs": [],
   "source": [
    "from LYCET_package import LYCET_Operations_Reverse as rm\n",
    "from LYCET_package.ReverseMode import ReverseMode"
   ]
  },
  {
   "cell_type": "markdown",
   "id": "3d6eecb7",
   "metadata": {},
   "source": [
    "##### 2. Define the function $f(x)$ to evaluate\n",
    "_In this example,_ $f(x_1, x_2, x_3) = cos(x_1 + x_2) + (x_3x_2^3)$..."
   ]
  },
  {
   "cell_type": "code",
   "execution_count": 2,
   "id": "a6ff17b2",
   "metadata": {},
   "outputs": [],
   "source": [
    "def user_function(x1, x2, x3):\n",
    "    return rm.cos(x1 + x2) + (x3 * x2**3)"
   ]
  },
  {
   "cell_type": "markdown",
   "id": "f15469bb",
   "metadata": {},
   "source": [
    "##### 3. Specify where to evaluate $f(x)$\n",
    "_...in this case,_ $x_1 = 1, x_2 = 2, x_3 = 3$"
   ]
  },
  {
   "cell_type": "code",
   "execution_count": 3,
   "id": "f023bd02",
   "metadata": {},
   "outputs": [],
   "source": [
    "x = [1, 2, 3]"
   ]
  },
  {
   "cell_type": "markdown",
   "id": "d305bd2b",
   "metadata": {},
   "source": [
    "##### 4. Call the ReverseMode function, with $f(x)$ and $x$ as inputs\n",
    "_ReverseMode will automatically convert each variable into objects that can be used with our LYCET operations. By computing the partial derivatives and adjoints in the forward and backward passes in reverse-mode AD, the ReverseMode function allows the user to simply call this function and retrieve $f(x_1, x_2, x_3)$ and the Jacobian._ "
   ]
  },
  {
   "cell_type": "code",
   "execution_count": 4,
   "id": "665369ec",
   "metadata": {},
   "outputs": [],
   "source": [
    "f, J = ReverseMode(user_function, x)"
   ]
  },
  {
   "cell_type": "markdown",
   "id": "e80326ee",
   "metadata": {},
   "source": [
    "##### 5. Print the outputs $f(x)$ and the Jacobian $J$\n",
    "_the outputs are as follows:_\n",
    "$$\n",
    "f(1, 2, 3) = cos(x_1 + x_2) + (x_3x_2^3) = 23.01 \n",
    "$$"
   ]
  },
  {
   "cell_type": "code",
   "execution_count": 5,
   "id": "ec62e9ca",
   "metadata": {},
   "outputs": [
    {
     "name": "stdout",
     "output_type": "stream",
     "text": [
      "lycet f(x) = 23.010007503399553\n",
      "lycet J = [-0.1411200080598672, 35.858879991940135, 8]\n"
     ]
    }
   ],
   "source": [
    "print(f'lycet f(x) = {f}')\n",
    "print(f'lycet J = {J}')"
   ]
  }
 ],
 "metadata": {
  "kernelspec": {
   "display_name": "Python 3 (ipykernel)",
   "language": "python",
   "name": "python3"
  },
  "language_info": {
   "codemirror_mode": {
    "name": "ipython",
    "version": 3
   },
   "file_extension": ".py",
   "mimetype": "text/x-python",
   "name": "python",
   "nbconvert_exporter": "python",
   "pygments_lexer": "ipython3",
   "version": "3.10.2"
  },
  "vscode": {
   "interpreter": {
    "hash": "aee8b7b246df8f9039afb4144a1f6fd8d2ca17a180786b69acc140d282b71a49"
   }
  }
 },
 "nbformat": 4,
 "nbformat_minor": 5
}
